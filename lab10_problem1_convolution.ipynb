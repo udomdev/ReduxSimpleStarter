{
  "nbformat": 4,
  "nbformat_minor": 0,
  "metadata": {
    "colab": {
      "name": "Copy of Copy of lab10-problem1-convolution.ipynb",
      "version": "0.3.2",
      "provenance": [],
      "collapsed_sections": [],
      "include_colab_link": true
    },
    "kernelspec": {
      "name": "python3",
      "display_name": "Python 3"
    }
  },
  "cells": [
    {
      "cell_type": "markdown",
      "metadata": {
        "id": "view-in-github",
        "colab_type": "text"
      },
      "source": [
        "<a href=\"https://colab.research.google.com/github/udomdev/ReduxSimpleStarter/blob/master/lab10_problem1_convolution.ipynb\" target=\"_parent\"><img src=\"https://colab.research.google.com/assets/colab-badge.svg\" alt=\"Open In Colab\"/></a>"
      ]
    },
    {
      "metadata": {
        "id": "eEfRJuG_T0QD",
        "colab_type": "code",
        "colab": {}
      },
      "cell_type": "code",
      "source": [
        "import matplotlib.pyplot as plt\n",
        "import numpy as np\n",
        "\n",
        "plt.style.use('default')\n",
        "\n",
        "input_your_code = None"
      ],
      "execution_count": 0,
      "outputs": []
    },
    {
      "metadata": {
        "id": "lCBac4vTYUKx",
        "colab_type": "code",
        "colab": {}
      },
      "cell_type": "code",
      "source": [
        "'''Create a convolution2d method.\n",
        "You can use a naive algorithm by sliding a kernel on top of the image\n",
        "Element-wise multiply kernel with the image area under the kernel,\n",
        "sum all the values and then store it into each location of a new image output.\n",
        "'''\n",
        "def convolution2d(image, kernel, bias=0):\n",
        "  m, n = kernel.shape\n",
        "  # Check if a kernel has square shape\n",
        "  if (m == n):\n",
        "    y, x = image.shape\n",
        "    '''Dimension for the output\n",
        "    output_dimension = (input_dimension + 2*padding_size - kernel_size)/stride + 1\n",
        "    In this case padding is zero, stride is one, there fore we have the output shape\n",
        "    as we seen below.\n",
        "    '''\n",
        "    padding = 0\n",
        "    stride = 1\n",
        "    input_your_code\n",
        "    \n",
        "    feature_map = np.zeros((width, height)).astype('int8')\n",
        "    \n",
        "    '''Moving kernel from top left of the image and \n",
        "    multiply element-wise between kernel and image area under the kernel,\n",
        "    then sum all values (This is actually dot product).\n",
        "    '''\n",
        "    input_your_code\n",
        "\n",
        "    return feature_map\n",
        " \n",
        "\n",
        "\n",
        "def display(image):\n",
        "  print(image)\n",
        "  plt.grid(c='grey')\n",
        "  plt.xticks(np.arange(0, image.shape[0]+1, dtype=np.int))\n",
        "  plt.yticks(np.arange(0, image.shape[1]+1, dtype=np.int))\n",
        "  plt.imshow(\n",
        "      image,\n",
        "      cmap=plt.cm.gray,\n",
        "      extent=[0, image.shape[0], 0, image.shape[1]]\n",
        "  )\n",
        "  plt.show()"
      ],
      "execution_count": 0,
      "outputs": []
    },
    {
      "metadata": {
        "id": "LQ36ybpG2ZgO",
        "colab_type": "text"
      },
      "cell_type": "markdown",
      "source": [
        "# Vertical Edge Detection\n",
        "\n"
      ]
    },
    {
      "metadata": {
        "id": "Yo9uZfbeZQoG",
        "colab_type": "code",
        "colab": {}
      },
      "cell_type": "code",
      "source": [
        "'''Create numpy array as image1 and display it.\n",
        "[[10 10 10  0  0  0]\n",
        " [10 10 10  0  0  0]\n",
        " [10 10 10  0  0  0]\n",
        " [10 10 10  0  0  0]\n",
        " [10 10 10  0  0  0]\n",
        " [10 10 10  0  0  0]]\n",
        " '''\n",
        "\n",
        "image1 = input_your_code\n",
        "# display(image1)"
      ],
      "execution_count": 0,
      "outputs": []
    },
    {
      "metadata": {
        "id": "UUMjLgLDcJUw",
        "colab_type": "code",
        "colab": {}
      },
      "cell_type": "code",
      "source": [
        "'''Create vertical_edge_kernel and display it:\n",
        "[[ 1  0 -1]\n",
        " [ 1  0 -1]\n",
        " [ 1  0 -1]]\n",
        "'''\n",
        "\n",
        "vertical_edge_kernel = input_your_code\n",
        "# display(vertical_edge_kernel)"
      ],
      "execution_count": 0,
      "outputs": []
    },
    {
      "metadata": {
        "id": "eV4Tz1W6ciem",
        "colab_type": "code",
        "colab": {}
      },
      "cell_type": "code",
      "source": [
        "# Call your convolution2d() and display the result.\n",
        "input_your_code"
      ],
      "execution_count": 0,
      "outputs": []
    },
    {
      "metadata": {
        "id": "pz8Wp467pcbY",
        "colab_type": "code",
        "colab": {}
      },
      "cell_type": "code",
      "source": [
        "'''Create a numpy array and display it:\n",
        "[[ 0  0  0 10 10 10]\n",
        " [ 0  0  0 10 10 10]\n",
        " [ 0  0  0 10 10 10]\n",
        " [ 0  0  0 10 10 10]\n",
        " [ 0  0  0 10 10 10]\n",
        " [ 0  0  0 10 10 10]]\n",
        "'''\n",
        "image2 = input_your_code\n",
        "\n",
        "# display(image2)"
      ],
      "execution_count": 0,
      "outputs": []
    },
    {
      "metadata": {
        "id": "FP9oyq8YrBOM",
        "colab_type": "code",
        "colab": {}
      },
      "cell_type": "code",
      "source": [
        "# Call your convolution2d() and display the result.\n",
        "input_your_code"
      ],
      "execution_count": 0,
      "outputs": []
    },
    {
      "metadata": {
        "id": "oPp5h9SI235J",
        "colab_type": "text"
      },
      "cell_type": "markdown",
      "source": [
        "# Horizontal Edge Detection"
      ]
    },
    {
      "metadata": {
        "id": "oLXWyh0frCIu",
        "colab_type": "code",
        "colab": {}
      },
      "cell_type": "code",
      "source": [
        "'''Create horizontal_edge_kernel and display it:\n",
        "[[ 1  1  1]\n",
        " [ 0  0  0]\n",
        " [-1 -1 -1]]\n",
        "\n",
        "'''\n",
        "horizontal_edge_kernel = input_your_code\n",
        "\n",
        "# display(horizontal_edge_kernel)"
      ],
      "execution_count": 0,
      "outputs": []
    },
    {
      "metadata": {
        "id": "IW2jyDXarzgw",
        "colab_type": "code",
        "colab": {}
      },
      "cell_type": "code",
      "source": [
        "'''Create an numpy array and display it:\n",
        "[[10 10 10  0  0  0]\n",
        " [10 10 10  0  0  0]\n",
        " [10 10 10  0  0  0]\n",
        " [ 0  0  0 10 10 10]\n",
        " [ 0  0  0 10 10 10]\n",
        " [ 0  0  0 10 10 10]]\n",
        "'''\n",
        "image3 = input_your_code\n",
        "\n",
        "# display(image3)"
      ],
      "execution_count": 0,
      "outputs": []
    },
    {
      "metadata": {
        "id": "FmMkQVtxsD-v",
        "colab_type": "code",
        "colab": {}
      },
      "cell_type": "code",
      "source": [
        "'''Value 0 means there is no edge detected.\n",
        "Value 30 means 3 bright pixels on top, 3 dark pixels on the bottom.\n",
        "Value -30 means 3 dark pixels on top, 3 bright pixels on the bottom.\n",
        "Value 10 is similar to 30 some part of the edge is not bright pixel on top and dark pixel on the bottom.\n",
        "Value -10 is similar to -30 some part of the edge is not dark pixel on top and bright pixel on the bottom.\n",
        "\n",
        "'''\n",
        "# Call your convolution2d(), store it as image4, and display the result.\n",
        "image4 = input_your_code\n",
        "# display(image4)"
      ],
      "execution_count": 0,
      "outputs": []
    },
    {
      "metadata": {
        "id": "QRzQwumdseTY",
        "colab_type": "code",
        "colab": {}
      },
      "cell_type": "code",
      "source": [
        "# Apply vertical edge kernel on the previous feature maps to see the result.\n",
        "# display(vertical_edge_kernel)\n",
        "# display(convolution2d(image4, vertical_edge_kernel))"
      ],
      "execution_count": 0,
      "outputs": []
    },
    {
      "metadata": {
        "id": "BKSnky4CO_r-",
        "colab_type": "code",
        "colab": {}
      },
      "cell_type": "code",
      "source": [
        ""
      ],
      "execution_count": 0,
      "outputs": []
    }
  ]
}